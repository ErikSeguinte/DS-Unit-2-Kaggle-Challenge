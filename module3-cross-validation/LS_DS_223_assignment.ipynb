{
 "cells": [
  {
   "cell_type": "markdown",
   "metadata": {},
   "source": [
    "Lambda School Data Science\n",
    "\n",
    "*Unit 2, Sprint 2, Module 3*\n",
    "\n",
    "---"
   ]
  },
  {
   "cell_type": "markdown",
   "metadata": {},
   "source": [
    "# Cross-Validation\n",
    "\n",
    "\n",
    "## Assignment\n",
    "- [ ] [Review requirements for your portfolio project](https://lambdaschool.github.io/ds/unit2), then submit your dataset.\n",
    "- [ ] Continue to participate in our Kaggle challenge. \n",
    "- [ ] Use scikit-learn for hyperparameter optimization with RandomizedSearchCV.\n",
    "- [ ] Submit your predictions to our Kaggle competition. (Go to our Kaggle InClass competition webpage. Use the blue **Submit Predictions** button to upload your CSV file. Or you can use the Kaggle API to submit your predictions.)\n",
    "- [ ] Commit your notebook to your fork of the GitHub repo.\n",
    "\n",
    "\n",
    "You won't be able to just copy from the lesson notebook to this assignment.\n",
    "\n",
    "- Because the lesson was ***regression***, but the assignment is ***classification.***\n",
    "- Because the lesson used [TargetEncoder](https://contrib.scikit-learn.org/categorical-encoding/targetencoder.html), which doesn't work as-is for _multi-class_ classification.\n",
    "\n",
    "So you will have to adapt the example, which is good real-world practice.\n",
    "\n",
    "1. Use a model for classification, such as [RandomForestClassifier](https://scikit-learn.org/stable/modules/generated/sklearn.ensemble.RandomForestClassifier.html)\n",
    "2. Use hyperparameters that match the classifier, such as `randomforestclassifier__ ...`\n",
    "3. Use a metric for classification, such as [`scoring='accuracy'`](https://scikit-learn.org/stable/modules/model_evaluation.html#common-cases-predefined-values)\n",
    "4. If you’re doing a multi-class classification problem — such as whether a waterpump is functional, functional needs repair, or nonfunctional — then use a categorical encoding that works for multi-class classification, such as [OrdinalEncoder](https://contrib.scikit-learn.org/categorical-encoding/ordinal.html) (not [TargetEncoder](https://contrib.scikit-learn.org/categorical-encoding/targetencoder.html))\n",
    "\n",
    "\n",
    "\n",
    "## Stretch Goals\n",
    "\n",
    "### Reading\n",
    "- Jake VanderPlas, [Python Data Science Handbook, Chapter 5.3](https://jakevdp.github.io/PythonDataScienceHandbook/05.03-hyperparameters-and-model-validation.html), Hyperparameters and Model Validation\n",
    "- Jake VanderPlas, [Statistics for Hackers](https://speakerdeck.com/jakevdp/statistics-for-hackers?slide=107)\n",
    "- Ron Zacharski, [A Programmer's Guide to Data Mining, Chapter 5](http://guidetodatamining.com/chapter5/), 10-fold cross validation\n",
    "- Sebastian Raschka, [A Basic Pipeline and Grid Search Setup](https://github.com/rasbt/python-machine-learning-book/blob/master/code/bonus/svm_iris_pipeline_and_gridsearch.ipynb)\n",
    "- Peter Worcester, [A Comparison of Grid Search and Randomized Search Using Scikit Learn](https://blog.usejournal.com/a-comparison-of-grid-search-and-randomized-search-using-scikit-learn-29823179bc85)\n",
    "\n",
    "### Doing\n",
    "- Add your own stretch goals!\n",
    "- Try other [categorical encodings](https://contrib.scikit-learn.org/categorical-encoding/). See the previous assignment notebook for details.\n",
    "- In additon to `RandomizedSearchCV`, scikit-learn has [`GridSearchCV`](https://scikit-learn.org/stable/modules/generated/sklearn.model_selection.GridSearchCV.html). Another library called scikit-optimize has [`BayesSearchCV`](https://scikit-optimize.github.io/notebooks/sklearn-gridsearchcv-replacement.html). Experiment with these alternatives.\n",
    "- _[Introduction to Machine Learning with Python](http://shop.oreilly.com/product/0636920030515.do)_ discusses options for \"Grid-Searching Which Model To Use\" in Chapter 6:\n",
    "\n",
    "> You can even go further in combining GridSearchCV and Pipeline: it is also possible to search over the actual steps being performed in the pipeline (say whether to use StandardScaler or MinMaxScaler). This leads to an even bigger search space and should be considered carefully. Trying all possible solutions is usually not a viable machine learning strategy. However, here is an example comparing a RandomForestClassifier and an SVC ...\n",
    "\n",
    "The example is shown in [the accompanying notebook](https://github.com/amueller/introduction_to_ml_with_python/blob/master/06-algorithm-chains-and-pipelines.ipynb), code cells 35-37. Could you apply this concept to your own pipelines?\n"
   ]
  },
  {
   "cell_type": "markdown",
   "metadata": {},
   "source": [
    "### BONUS: Stacking!\n",
    "\n",
    "Here's some code you can use to \"stack\" multiple submissions, which is another form of ensembling:\n",
    "\n",
    "```python\n",
    "import pandas as pd\n",
    "\n",
    "# Filenames of your submissions you want to ensemble\n",
    "files = ['submission-01.csv', 'submission-02.csv', 'submission-03.csv']\n",
    "\n",
    "target = 'status_group'\n",
    "submissions = (pd.read_csv(file)[[target]] for file in files)\n",
    "ensemble = pd.concat(submissions, axis='columns')\n",
    "majority_vote = ensemble.mode(axis='columns')[0]\n",
    "\n",
    "sample_submission = pd.read_csv('sample_submission.csv')\n",
    "submission = sample_submission.copy()\n",
    "submission[target] = majority_vote\n",
    "submission.to_csv('my-ultimate-ensemble-submission.csv', index=False)\n",
    "```"
   ]
  },
  {
   "cell_type": "code",
   "execution_count": 1,
   "metadata": {},
   "outputs": [],
   "source": [
    "%%capture\n",
    "import sys\n",
    "\n",
    "# If you're on Colab:\n",
    "if 'google.colab' in sys.modules:\n",
    "    DATA_PATH = 'https://raw.githubusercontent.com/LambdaSchool/DS-Unit-2-Kaggle-Challenge/master/data/'\n",
    "    !pip install category_encoders==2.*\n",
    "\n",
    "# If you're working locally:\n",
    "else:\n",
    "    DATA_PATH = '../data/'"
   ]
  },
  {
   "cell_type": "code",
   "execution_count": 2,
   "metadata": {},
   "outputs": [],
   "source": [
    "import pandas as pd\n",
    "\n",
    "# Merge train_features.csv & train_labels.csv\n",
    "train = pd.merge(pd.read_csv(DATA_PATH+'waterpumps/train_features.csv'), \n",
    "                 pd.read_csv(DATA_PATH+'waterpumps/train_labels.csv'))\n",
    "\n",
    "# Read test_features.csv & sample_submission.csv\n",
    "test = pd.read_csv(DATA_PATH+'waterpumps/test_features.csv')\n",
    "sample_submission = pd.read_csv(DATA_PATH+'waterpumps/sample_submission.csv')"
   ]
  },
  {
   "cell_type": "code",
   "execution_count": 3,
   "metadata": {},
   "outputs": [],
   "source": [
    "def x_y_split(df):\n",
    "    target = 'status_group'\n",
    "    X = df.copy().drop(target, axis=1)\n",
    "    y = df.copy()[target]\n",
    "    return X, y\n",
    "\n",
    "X_train, y_train = x_y_split(train)\n",
    "X_test = test"
   ]
  },
  {
   "cell_type": "code",
   "execution_count": 4,
   "metadata": {},
   "outputs": [],
   "source": [
    "from sklearn.base import TransformerMixin\n",
    "import category_encoders as ce\n",
    "\n",
    "class Wrangler(TransformerMixin):\n",
    "\n",
    "    def __init__(self):\n",
    "        pass\n",
    "\n",
    "    def fit(self, X, y=None, **fit_params):\n",
    "        return self\n",
    "\n",
    "    def transform(self, X):\n",
    "        X = X.copy()\n",
    "        X['latitude'] = X['latitude'].replace(-2e-08, 0)\n",
    "        cols_with_zeros = ['longitude', 'latitude', 'gps_height', 'population', 'construction_year']\n",
    "        for col in cols_with_zeros:\n",
    "            X[col] = X[col].replace(0, np.nan)\n",
    "        X['date_recorded'] = pd.to_datetime(X['date_recorded'], infer_datetime_format=True)\n",
    "        X['year'] = X['date_recorded'].dt.year\n",
    "        X['month'] = X['date_recorded'].dt.month\n",
    "        X['day'] = X['date_recorded'].dt.day\n",
    "        X = X.drop(columns=['quantity_group', 'quality_group', 'payment_type', 'management_group', 'recorded_by', 'id', 'region', 'recorded_by', 'extraction_type', 'date_recorded'])\n",
    "        return X\n",
    "\n",
    "\n",
    "\n",
    "class NumericalFilter(TransformerMixin):\n",
    "\n",
    "    def __init__(self, include = True):\n",
    "        self.columns = None\n",
    "        self.include = include\n",
    "\n",
    "    def fit(self, X, y=None,**fit_params):\n",
    "        if self.include:\n",
    "            self.columns = X.select_dtypes(include='number').columns.tolist()\n",
    "        else:\n",
    "            self.columns = X.select_dtypes(exclude='number').columns.tolist()\n",
    "        return self\n",
    "\n",
    "    def transform(self, X):\n",
    "        return X[self.columns]"
   ]
  },
  {
   "cell_type": "code",
   "execution_count": 5,
   "metadata": {},
   "outputs": [],
   "source": [
    "from sklearn.pipeline import make_pipeline, make_union\n",
    "from sklearn.impute import SimpleImputer\n",
    "from sklearn.ensemble import RandomForestClassifier\n",
    "import lightgbm\n",
    "from lightgbm import LGBMClassifier\n",
    "import numpy as np\n",
    "\n",
    "categorical_pipe = make_pipeline(NumericalFilter(False), ce.OrdinalEncoder())\n",
    "\n",
    "numerical_pipe = make_pipeline(NumericalFilter(), SimpleImputer(add_indicator=True))\n",
    "\n",
    "processing_pipe = make_union(categorical_pipe, numerical_pipe)\n",
    "\n",
    "classifier = make_pipeline(\n",
    "    Wrangler(),\n",
    "    processing_pipe,\n",
    "    LGBMClassifier()\n",
    "    )"
   ]
  },
  {
   "cell_type": "code",
   "execution_count": 6,
   "metadata": {},
   "outputs": [
    {
     "output_type": "execute_result",
     "data": {
      "text/plain": "FeatureUnion(n_jobs=None,\n             transformer_list=[('pipeline-1',\n                                Pipeline(memory=None,\n                                         steps=[('numericalfilter',\n                                                 <__main__.NumericalFilter object at 0x7f8ab75fd750>),\n                                                ('ordinalencoder',\n                                                 OrdinalEncoder(cols=None,\n                                                                drop_invariant=False,\n                                                                handle_missing='value',\n                                                                handle_unknown='value',\n                                                                mapping=None,\n                                                                return_df=True,\n                                                                verbose=0))],\n                                         verbose=False)),\n                               ('pipeline-2',\n                                Pipeline(memory=None,\n                                         steps=[('numericalfilter',\n                                                 <__main__.NumericalFilter object at 0x7f8ab75fd710>),\n                                                ('simpleimputer',\n                                                 SimpleImputer(add_indicator=True,\n                                                               copy=True,\n                                                               fill_value=None,\n                                                               missing_values=nan,\n                                                               strategy='mean',\n                                                               verbose=0))],\n                                         verbose=False))],\n             transformer_weights=None, verbose=False)"
     },
     "metadata": {},
     "execution_count": 6
    }
   ],
   "source": [
    "processing_pipe"
   ]
  },
  {
   "cell_type": "code",
   "execution_count": 7,
   "metadata": {},
   "outputs": [],
   "source": [
    "from sklearn.model_selection import RandomizedSearchCV\n",
    "from scipy.stats import randint, uniform"
   ]
  },
  {
   "cell_type": "code",
   "execution_count": 8,
   "metadata": {},
   "outputs": [],
   "source": [
    "paramaters = {\n",
    "    'lgbmclassifier__num_leaves' : randint(10, 500 ),\n",
    "    'lgbmclassifier__min_data_in_leaf': randint(100, 10000),\n",
    "    'lgbmclassifier__max_depth': randint(20, 100),\n",
    "    'featureunion__pipeline-2__simpleimputer__strategy': ['mean', 'median']\n",
    "}"
   ]
  },
  {
   "cell_type": "code",
   "execution_count": 9,
   "metadata": {},
   "outputs": [],
   "source": [
    "search = RandomizedSearchCV(\n",
    "    classifier,\n",
    "    param_distributions= paramaters,\n",
    "    n_iter = 25,\n",
    "    cv=10,\n",
    "    return_train_score=True,\n",
    "    n_jobs=-1,\n",
    "    refit=True\n",
    ")"
   ]
  },
  {
   "cell_type": "code",
   "execution_count": 10,
   "metadata": {},
   "outputs": [
    {
     "output_type": "execute_result",
     "data": {
      "text/plain": "RandomizedSearchCV(cv=10, error_score=nan,\n                   estimator=Pipeline(memory=None,\n                                      steps=[('wrangler',\n                                              <__main__.Wrangler object at 0x7f8ab37ecc90>),\n                                             ('featureunion',\n                                              FeatureUnion(n_jobs=None,\n                                                           transformer_list=[('pipeline-1',\n                                                                              Pipeline(memory=None,\n                                                                                       steps=[('numericalfilter',\n                                                                                               <__main__.NumericalFilter object at 0x7f8ab75fd750>),\n                                                                                              ('ordinalencoder',\n                                                                                               OrdinalEncoder(cols=None,\n                                                                                                              dro...\n                                        'lgbmclassifier__max_depth': <scipy.stats._distn_infrastructure.rv_frozen object at 0x7f8ab37fded0>,\n                                        'lgbmclassifier__min_data_in_leaf': <scipy.stats._distn_infrastructure.rv_frozen object at 0x7f8ab37fdb90>,\n                                        'lgbmclassifier__num_leaves': <scipy.stats._distn_infrastructure.rv_frozen object at 0x7f8ab37fdb10>},\n                   pre_dispatch='2*n_jobs', random_state=None, refit=True,\n                   return_train_score=True, scoring=None, verbose=0)"
     },
     "metadata": {},
     "execution_count": 10
    }
   ],
   "source": [
    "search.fit(X_train, y_train)"
   ]
  },
  {
   "cell_type": "code",
   "execution_count": 11,
   "metadata": {},
   "outputs": [
    {
     "output_type": "stream",
     "name": "stdout",
     "text": "Best hyperparameters {'featureunion__pipeline-2__simpleimputer__strategy': 'median', 'lgbmclassifier__max_depth': 85, 'lgbmclassifier__min_data_in_leaf': 409, 'lgbmclassifier__num_leaves': 445}\nCross-validation MAE 0.7962121212121213\n"
    }
   ],
   "source": [
    "print('Best hyperparameters', search.best_params_)\n",
    "print('Cross-validation MAE', search.best_score_)"
   ]
  },
  {
   "cell_type": "code",
   "execution_count": 27,
   "metadata": {},
   "outputs": [],
   "source": [
    "df = pd.DataFrame(search.predict(X_test), index=X_test.index, columns=['status_group'])"
   ]
  },
  {
   "cell_type": "code",
   "execution_count": 28,
   "metadata": {},
   "outputs": [],
   "source": [
    "X_test[['id']].merge(df, left_index=True, right_index=True).to_csv('submission.csv', index=False)"
   ]
  },
  {
   "cell_type": "code",
   "execution_count": null,
   "metadata": {},
   "outputs": [],
   "source": []
  }
 ],
 "metadata": {
  "kernelspec": {
   "display_name": "Python 3",
   "language": "python",
   "name": "python3"
  },
  "language_info": {
   "codemirror_mode": {
    "name": "ipython",
    "version": 3
   },
   "file_extension": ".py",
   "mimetype": "text/x-python",
   "name": "python",
   "nbconvert_exporter": "python",
   "pygments_lexer": "ipython3",
   "version": "3.7.6-final"
  }
 },
 "nbformat": 4,
 "nbformat_minor": 2
}